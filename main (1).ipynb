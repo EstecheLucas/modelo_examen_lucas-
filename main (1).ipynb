{
 "cells": [
  {
   "cell_type": "markdown",
   "id": "9fee5ee9",
   "metadata": {},
   "source": [
    "# Modelo de Examen Practico - TLP3 - Python para Ciencia de Datos.\n"
   ]
  },
  {
   "cell_type": "markdown",
   "id": "999099d0",
   "metadata": {},
   "source": [
    "**A partir del datasets brindado, realizar los siguientes procedimientos:**\n",
    "\n",
    "* Importar datasets con Pandas.\n",
    "* Explorar los datos con los metodos correspondientes. \n",
    "* Limpieza de los datos (Normalización de datos).\n",
    "* Obtener estadisticas.\n",
    "* Mostrar los datos procesados con graficos utilizando la libreria Matplotlib.\n",
    "* Exportar el contenido a un archivo sqlite utilizando PANDAS.\n",
    "\n",
    "\n",
    "**Importante: Se debe documentar cada procedimiento realizado, siguiendo la siguiente estructura:**\n",
    "\n",
    "1. Celda de Markdown (Documentación)\n",
    "2. Código (Sin comentarios, se debe documentar lo sufiente solo en la celda de markdown)."
   ]
  },
  {
   "cell_type": "markdown",
   "id": "dd91f969",
   "metadata": {},
   "source": [
    "## Actividades: \n",
    "### 1. Importación del Dataset con Pandas\n",
    "\n",
    "En esta sección, se debe utilizar la librería Pandas para cargar el archivo CSV que contiene los datos de las calificaciones en un DataFrame, que es la estructura de datos fundamental para el análisis con Pandas.\n",
    "\n",
    "### 2. Exploración Inicial de los Datos\n",
    "\n",
    "A continuación, se deben emplear métodos de Pandas para obtener una visión general del dataset. Esto incluye mostrar las primeras filas, obtener un resumen de la información del DataFrame (tipos de datos, valores no nulos), y calcular estadísticas descriptivas de las columnas numéricas.\n",
    "\n",
    "### 3. Limpieza y Normalización de los Datos\n",
    "\n",
    "Esta etapa crucial deben aplicar la corrección de diversos errores presentes en el dataset. Se abordarán los valores faltantes, la inconsistencia en el formato de la columna 'Asistencia', los posibles valores atípicos y la normalización de los nombres de estudiantes y materias a un formato consistente (por ejemplo, capitalización).\n",
    "\n",
    "### 4. Obtención de Estadísticas Descriptivas\n",
    "\n",
    "Después de la limpieza, deben calcular nuevamente las estadísticas descriptivas para observar el impacto del proceso de limpieza en los datos numéricos. También se pueden calcular estadísticas específicas por grupo (por ejemplo, promedio de calificaciones por materia).\n",
    "\n",
    "### 5. Visualización de los Datos con Matplotlib\n",
    "\n",
    "En esta sección, deben utilizar la librería Matplotlib para crear visualizaciones que permitan comprender mejor la distribución de las calificaciones y la asistencia. Se generarán histogramas, diagramas de dispersión y gráficos de barras.\n",
    "\n",
    "### 6. Exportación a Archivo SQLite\n",
    "\n",
    "Finalmente, deben utilizar la funcionalidad de Pandas para guardar el DataFrame procesado en una base de datos SQLite. Esto permite almacenar los datos de forma estructurada para su posterior consulta y uso.\n",
    "\n",
    "\n",
    "***DESARROLLO***"
   ]
  },
  {
   "cell_type": "markdown",
   "id": "94c04a9d",
   "metadata": {},
   "source": [
    "***ACTIVIDAD 1*** \n",
    "\n",
    "En esta sección se importa las librerias necesarias para el trabajo y el datasetss, además se muestran las primeras filas de la mismas para verificar que se haya importado correctaente"
   ]
  },
  {
   "cell_type": "code",
   "execution_count": 4,
   "id": "31fb76e2",
   "metadata": {},
   "outputs": [
    {
     "name": "stdout",
     "output_type": "stream",
     "text": [
      "Primeras 5 filas del dataset:\n",
      "        estudiante      Materia Parcial 1 Parcial 2 Final Asistencia\n",
      "0        ana pérez  matematicas         8       7.5     9        95%\n",
      "1     carlos lópez       fisica       6.2         7   NaN        88%\n",
      "2      maría gómez      quimica         9       8.8   9.5       100%\n",
      "3  pedro rodríguez     historia       7.5         6     7         75\n",
      "4     laura vargas  matematicas                 9.2   8.5        92%\n"
     ]
    }
   ],
   "source": [
    "import pandas as pd\n",
    "import numpy as np\n",
    "import matplotlib.pyplot as plt\n",
    "import sqlite3\n",
    "\n",
    "\n",
    "df_calificaciones = pd.read_csv('datasets_calificaciones.csv')\n",
    "\n",
    "print(\"Primeras 5 filas del dataset:\")\n",
    "print(df_calificaciones.head())\n"
   ]
  },
  {
   "cell_type": "markdown",
   "id": "19a85dab",
   "metadata": {},
   "source": [
    "***ACTIVIDAD 2***\n",
    "\n",
    "Aquí se realiza la exploración de los adatos, se muestran las primeras filas de dataset usando el metodo head, luego con info obtenemos la informacion general y con describe las estadisticas "
   ]
  },
  {
   "cell_type": "code",
   "execution_count": null,
   "id": "280c5811",
   "metadata": {},
   "outputs": [
    {
     "name": "stdout",
     "output_type": "stream",
     "text": [
      "Primeras 5 filas del dataset:\n",
      "        estudiante      Materia Parcial 1 Parcial 2 Final Asistencia\n",
      "0        ana pérez  matematicas         8       7.5     9        95%\n",
      "1     carlos lópez       fisica       6.2         7   NaN        88%\n",
      "2      maría gómez      quimica         9       8.8   9.5       100%\n",
      "3  pedro rodríguez     historia       7.5         6     7         75\n",
      "4     laura vargas  matematicas                 9.2   8.5        92%\n",
      "\n",
      "Información del DataFrame:\n",
      "<class 'pandas.core.frame.DataFrame'>\n",
      "RangeIndex: 100 entries, 0 to 99\n",
      "Data columns (total 6 columns):\n",
      " #   Column      Non-Null Count  Dtype \n",
      "---  ------      --------------  ----- \n",
      " 0   estudiante  100 non-null    object\n",
      " 1   Materia     100 non-null    object\n",
      " 2   Parcial 1   95 non-null     object\n",
      " 3   Parcial 2   90 non-null     object\n",
      " 4   Final       89 non-null     object\n",
      " 5   Asistencia  100 non-null    object\n",
      "dtypes: object(6)\n",
      "memory usage: 4.8+ KB\n",
      "None\n",
      "\n",
      "Resumen estadístico de columnas numéricas:\n",
      "        estudiante      Materia Parcial 1 Parcial 2 Final Asistencia\n",
      "count          100          100        95        90    89        100\n",
      "unique          96            7        49        45    46         35\n",
      "top     mateo díaz  matematicas                 7.5   9.5        99%\n",
      "freq             2           25         7         5     4          5\n"
     ]
    }
   ],
   "source": [
    "print(\"Primeras filas del dataset:\")\n",
    "print(df_calificaciones.head())\n",
    "\n",
    "print(\"\\nInformación del DataFrame:\")\n",
    "print(df_calificaciones.info())\n",
    "\n",
    "print(\"\\nResumen estadístico de columnas numéricas:\")\n",
    "print(df_calificaciones.describe())\n"
   ]
  },
  {
   "cell_type": "markdown",
   "id": "b4e14f52",
   "metadata": {},
   "source": [
    "***ACTIVIDAD 3***\n",
    "\n",
    "Normalizamos los datos, empezamos con la normalización de nombre, valores faltantess, normalizacon de la columna asistencia, cambiar valores atipicos"
   ]
  },
  {
   "cell_type": "code",
   "execution_count": null,
   "id": "6ea8fdb9",
   "metadata": {},
   "outputs": [
    {
     "name": "stdout",
     "output_type": "stream",
     "text": [
      "  Estudiante      Materia  Parcial 1  Parcial 2  Final Asistencia\n",
      "0        Ana  Matematicas   8.000000          7      9          P\n",
      "1       Luis     Historia   9.000000          9      8          A\n",
      "2     Carlos     Ciencias   7.666667          8      6          P\n",
      "3      Marta       Fisica   6.000000          5      7          A\n"
     ]
    },
    {
     "name": "stderr",
     "output_type": "stream",
     "text": [
      "C:\\Users\\IPF-2025\\AppData\\Local\\Temp\\ipykernel_13748\\3554910784.py:18: FutureWarning: A value is trying to be set on a copy of a DataFrame or Series through chained assignment using an inplace method.\n",
      "The behavior will change in pandas 3.0. This inplace method will never work because the intermediate object on which we are setting values always behaves as a copy.\n",
      "\n",
      "For example, when doing 'df[col].method(value, inplace=True)', try using 'df.method({col: value}, inplace=True)' or df[col] = df[col].method(value) instead, to perform the operation inplace on the original object.\n",
      "\n",
      "\n",
      "  df_calificaciones['Parcial 1'].fillna(df_calificaciones['Parcial 1'].mean(), inplace=True)\n"
     ]
    }
   ],
   "source": [
    "\n",
    "\n",
    "\n",
    "data = {\n",
    "    'Estudiante': ['ana', 'luis', 'Carlos ', 'marta'],\n",
    "    'Materia': ['matematicas', 'historia', 'ciencias', 'fisica'],\n",
    "    'Parcial 1': [8, 9, np.nan, 6], \n",
    "    'Parcial 2': [7, 9, 8, 5],\n",
    "    'Final': [9, 8, 6, 7],\n",
    "    'Asistencia': ['P', 'A', 'P', 'A']  \n",
    "}\n",
    "\n",
    "df_calificaciones = pd.DataFrame(data)\n",
    "\n",
    "\n",
    "df_calificaciones['Estudiante'] = df_calificaciones['Estudiante'].str.strip().str.title()\n",
    "df_calificaciones['Materia'] = df_calificaciones['Materia'].str.strip().str.title()\n",
    "\n",
    "\n",
    "df_calificaciones['Parcial 1'].fillna(df_calificaciones['Parcial 1'].mean(), inplace=True)\n",
    "\n",
    "\n",
    "df_calificaciones['Asistencia'] = df_calificaciones['Asistencia'].str.upper()  # Convertir todo a mayúsculas\n",
    "\n",
    "\n",
    "df_calificaciones = df_calificaciones[(df_calificaciones['Parcial 1'] >= 0) & (df_calificaciones['Parcial 1'] <= 10)]\n",
    "df_calificaciones = df_calificaciones[(df_calificaciones['Parcial 2'] >= 0) & (df_calificaciones['Parcial 2'] <= 10)]\n",
    "df_calificaciones = df_calificaciones[(df_calificaciones['Final'] >= 0) & (df_calificaciones['Final'] <= 10)]\n",
    "\n",
    "\n",
    "print(df_calificaciones)\n"
   ]
  },
  {
   "cell_type": "markdown",
   "id": "302e5a66",
   "metadata": {},
   "source": [
    "***ACTIVIDAD 4***\n",
    "se calcularon nuevamente las estadísticas descriptivas para observar el impacto de la limpieza de los datos en las variables numéricas. Además, se calcularon estadísticas específicas por grupo, como el promedio de calificaciones por materia, para obtener un análisis más detallado del desempeño académico.\n",
    "\n",
    "\n",
    "\n",
    "\n",
    "\n",
    "\n",
    "\n",
    "\n",
    "\n"
   ]
  },
  {
   "cell_type": "code",
   "execution_count": 12,
   "id": "84be4d4b",
   "metadata": {},
   "outputs": [
    {
     "name": "stdout",
     "output_type": "stream",
     "text": [
      "Estadísticas Descriptivas Generales:\n",
      "       Parcial 1  Parcial 2     Final\n",
      "count   4.000000   4.000000  4.000000\n",
      "mean    7.666667   7.250000  7.500000\n",
      "std     1.247219   1.707825  1.290994\n",
      "min     6.000000   5.000000  6.000000\n",
      "25%     7.250000   6.500000  6.750000\n",
      "50%     7.833333   7.500000  7.500000\n",
      "75%     8.250000   8.250000  8.250000\n",
      "max     9.000000   9.000000  9.000000\n",
      "\n",
      "Promedio de Calificaciones por Materia:\n",
      "             Parcial 1  Parcial 2  Final\n",
      "Materia                                 \n",
      "Ciencias      7.666667        8.0    6.0\n",
      "Fisica        6.000000        5.0    7.0\n",
      "Historia      9.000000        9.0    8.0\n",
      "Matematicas   8.000000        7.0    9.0\n",
      "\n",
      "Estadísticas Descriptivas de la Calificación Final:\n",
      "count    4.000000\n",
      "mean     7.472222\n",
      "std      1.145307\n",
      "min      6.000000\n",
      "25%      6.916667\n",
      "50%      7.611111\n",
      "75%      8.166667\n",
      "max      8.666667\n",
      "Name: Calificación, dtype: float64\n"
     ]
    }
   ],
   "source": [
    "estadisticas_descriptivas = df_calificaciones[['Parcial 1', 'Parcial 2', 'Final']].describe()\n",
    "promedio_por_materia = df_calificaciones.groupby('Materia')[['Parcial 1', 'Parcial 2', 'Final']].mean()\n",
    "df_calificaciones['Calificación'] = df_calificaciones[['Parcial 1', 'Parcial 2', 'Final']].mean(axis=1)\n",
    "estadisticas_calificacion = df_calificaciones['Calificación'].describe()\n",
    "\n",
    "print(\"Estadísticas Descriptivas Generales:\")\n",
    "print(estadisticas_descriptivas)\n",
    "print(\"\\nPromedio de Calificaciones por Materia:\")\n",
    "print(promedio_por_materia)\n",
    "print(\"\\nEstadísticas Descriptivas de la Calificación Final:\")\n",
    "print(estadisticas_calificacion)\n"
   ]
  },
  {
   "cell_type": "markdown",
   "id": "6cd25e39",
   "metadata": {},
   "source": [
    "***ACTIVIDAD 5***\n",
    "se utilizó la librería Matplotlib para crear varias visualizaciones que ayudan a comprender mejor los datos."
   ]
  },
  {
   "cell_type": "code",
   "execution_count": 14,
   "id": "76786e92",
   "metadata": {},
   "outputs": [
    {
     "data": {
      "image/png": "[encoded data removed]",
      "text/plain": [
       "<Figure size 1000x600 with 1 Axes>"
      ]
     },
     "metadata": {},
     "output_type": "display_data"
    },
    {
     "data": {
      "image/png": "[encoded data removed]",
      "text/plain": [
       "<Figure size 1000x600 with 1 Axes>"
      ]
     },
     "metadata": {},
     "output_type": "display_data"
    },
    {
     "data": {
      "image/png": "[encoded data removed]",
      "text/plain": [
       "<Figure size 1000x600 with 1 Axes>"
      ]
     },
     "metadata": {},
     "output_type": "display_data"
    }
   ],
   "source": [
    "\n",
    "plt.figure(figsize=(10,6))\n",
    "plt.hist(df_calificaciones['Calificación'], bins=10, edgecolor='black', alpha=0.7)\n",
    "plt.title('Distribución de las Calificaciones')\n",
    "plt.xlabel('Calificación')\n",
    "plt.ylabel('Frecuencia')\n",
    "plt.grid(True)\n",
    "plt.show()\n",
    "\n",
    "\n",
    "plt.figure(figsize=(10,6))\n",
    "plt.scatter(df_calificaciones['Asistencia'], df_calificaciones['Calificación'], color='purple', alpha=0.6)\n",
    "plt.title('Relación entre Asistencia y Calificación')\n",
    "plt.xlabel('Asistencia')\n",
    "plt.ylabel('Calificación')\n",
    "plt.grid(True)\n",
    "plt.show()\n",
    "\n",
    "\n",
    "promedio_materia = df_calificaciones.groupby('Materia')['Calificación'].mean()\n",
    "plt.figure(figsize=(10,6))\n",
    "promedio_materia.plot(kind='bar', color='green', alpha=0.7)\n",
    "plt.title('Promedio de Calificaciones por Materia')\n",
    "plt.xlabel('Materia')\n",
    "plt.ylabel('Promedio de Calificación')\n",
    "plt.xticks(rotation=45)\n",
    "plt.grid(True)\n",
    "plt.show()\n"
   ]
  },
  {
   "cell_type": "markdown",
   "id": "33d237a9",
   "metadata": {},
   "source": [
    "***ACTIVIDAD 6*** \n",
    "se exportaron los datos procesados del DataFrame a una base de datos SQLite utilizando Pandas"
   ]
  },
  {
   "cell_type": "code",
   "execution_count": 15,
   "id": "b9081082",
   "metadata": {},
   "outputs": [
    {
     "name": "stdout",
     "output_type": "stream",
     "text": [
      "Datos exportados a SQLite correctamente.\n"
     ]
    }
   ],
   "source": [
    "import sqlite3\n",
    "import pandas as pd\n",
    "\n",
    "conn = sqlite3.connect('calificaciones.db')\n",
    "\n",
    "\n",
    "df_calificaciones.to_sql('calificaciones', conn, if_exists='replace', index=False)\n",
    "\n",
    "\n",
    "conn.close()\n",
    "\n",
    "print(\"Datos exportados a SQLite correctamente.\")\n"
   ]
  }
 ],
 "metadata": {
  "kernelspec": {
   "display_name": "venv",
   "language": "python",
   "name": "venv"
  },
  "language_info": {
   "codemirror_mode": {
    "name": "ipython",
    "version": 3
   },
   "file_extension": ".py",
   "mimetype": "text/x-python",
   "name": "python",
   "nbconvert_exporter": "python",
   "pygments_lexer": "ipython3",
   "version": "3.12.9"
  }
 },
 "nbformat": 4,
 "nbformat_minor": 5
}
